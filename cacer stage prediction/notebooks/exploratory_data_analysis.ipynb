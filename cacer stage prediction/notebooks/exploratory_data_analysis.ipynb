{
 "cells": [
  {
   "cell_type": "code",
   "execution_count": null,
   "metadata": {
    "vscode": {
     "languageId": "plaintext"
    }
   },
   "outputs": [],
   "source": [
    "# exploratory_data_analysis.ipynb\n",
    "\n",
    "# Import necessary libraries\n",
    "import pandas as pd\n",
    "import matplotlib.pyplot as plt\n",
    "import seaborn as sns\n",
    "from sklearn.preprocessing import LabelEncoder\n",
    "\n",
    "# Load dataset\n",
    "data = pd.read_csv('../data/raw_data.csv')\n",
    "\n",
    "# Display the first few rows\n",
    "data.head()\n",
    "\n",
    "# Basic information about the dataset\n",
    "data.info()\n",
    "\n",
    "# Check for missing values\n",
    "data.isnull().sum()\n",
    "\n",
    "# Statistical summary of the dataset\n",
    "data.describe()\n",
    "\n",
    "# Distribution of the target variable (Stage)\n",
    "plt.figure(figsize=(8, 6))\n",
    "sns.countplot(x='Stage', data=data)\n",
    "plt.title(\"Distribution of Cancer Stages\")\n",
    "plt.xlabel(\"Cancer Stage\")\n",
    "plt.ylabel(\"Count\")\n",
    "plt.show()\n",
    "\n",
    "# Correlation matrix\n",
    "plt.figure(figsize=(12, 10))\n",
    "correlation_matrix = data.corr()\n",
    "sns.heatmap(correlation_matrix, annot=True, cmap='coolwarm', fmt=\".2f\")\n",
    "plt.title(\"Feature Correlation Matrix\")\n",
    "plt.show()\n",
    "\n",
    "# Pairplot of selected features to see their distributions and relationships\n",
    "selected_features = ['radius_mean', 'texture_mean', 'perimeter_mean', 'area_mean', 'Stage']\n",
    "sns.pairplot(data[selected_features], hue=\"Stage\", palette=\"Set1\")\n",
    "plt.show()\n",
    "\n",
    "# Encoding categorical features if any (Label Encoding)\n",
    "# Assuming 'Stage' is categorical\n",
    "label_encoder = LabelEncoder()\n",
    "data['Stage'] = label_encoder.fit_transform(data['Stage'])\n",
    "\n",
    "# Check feature distributions\n",
    "data.hist(bins=15, figsize=(15, 10))\n",
    "plt.suptitle(\"Feature Distributions\")\n",
    "plt.show()\n"
   ]
  }
 ],
 "metadata": {
  "language_info": {
   "name": "python"
  }
 },
 "nbformat": 4,
 "nbformat_minor": 2
}
